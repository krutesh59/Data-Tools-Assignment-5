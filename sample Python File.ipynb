{
 "cells": [
  {
   "cell_type": "code",
   "execution_count": 1,
   "id": "862c0bb4-0174-4e86-9bab-095a39766427",
   "metadata": {
    "tags": []
   },
   "outputs": [
    {
     "name": "stdout",
     "output_type": "stream",
     "text": [
      "Hello, World!\n"
     ]
    }
   ],
   "source": [
    "print(\"Hello, World!\")\n"
   ]
  },
  {
   "cell_type": "code",
   "execution_count": 2,
   "id": "46f61b2c-8edd-4196-b2e4-8de9133a0f73",
   "metadata": {
    "tags": []
   },
   "outputs": [
    {
     "name": "stdout",
     "output_type": "stream",
     "text": [
      "Addition Result: 15\n",
      "Subtraction Result: 8\n",
      "Multiplication Result: 24\n",
      "Division Result: 5.0\n"
     ]
    }
   ],
   "source": [
    "# Addition\n",
    "result_add = 10 + 5\n",
    "print(\"Addition Result:\", result_add)\n",
    "\n",
    "# Subtraction\n",
    "result_sub = 15 - 7\n",
    "print(\"Subtraction Result:\", result_sub)\n",
    "\n",
    "# Multiplication\n",
    "result_mul = 6 * 4\n",
    "print(\"Multiplication Result:\", result_mul)\n",
    "\n",
    "# Division\n",
    "result_div = 20 / 4\n",
    "print(\"Division Result:\", result_div)\n"
   ]
  },
  {
   "cell_type": "code",
   "execution_count": 3,
   "id": "0947a65b-b158-4141-a6c9-7ebd03f10191",
   "metadata": {
    "tags": []
   },
   "outputs": [
    {
     "name": "stdout",
     "output_type": "stream",
     "text": [
      "Name: Alice\n",
      "Age: 30\n",
      "Double Age: 60\n"
     ]
    }
   ],
   "source": [
    "# Variables\n",
    "name = \"Alice\"\n",
    "age = 30\n",
    "\n",
    "# Print using variables\n",
    "print(\"Name:\", name)\n",
    "print(\"Age:\", age)\n",
    "\n",
    "# Operations with variables\n",
    "double_age = age * 2\n",
    "print(\"Double Age:\", double_age)\n"
   ]
  },
  {
   "cell_type": "code",
   "execution_count": 4,
   "id": "b0772d2c-2e85-4347-892d-cf59a53657fa",
   "metadata": {
    "tags": []
   },
   "outputs": [
    {
     "name": "stdout",
     "output_type": "stream",
     "text": [
      "15 is odd.\n"
     ]
    }
   ],
   "source": [
    "# Conditional Statement\n",
    "number = 15\n",
    "\n",
    "if number % 2 == 0:\n",
    "    print(number, \"is even.\")\n",
    "else:\n",
    "    print(number, \"is odd.\")\n"
   ]
  },
  {
   "cell_type": "code",
   "execution_count": 5,
   "id": "7c77f89a-4f56-41c9-8a32-2948b3f9ed6b",
   "metadata": {
    "tags": []
   },
   "outputs": [
    {
     "name": "stdout",
     "output_type": "stream",
     "text": [
      "Current number is: 0\n",
      "Current number is: 1\n",
      "Current number is: 2\n",
      "Current number is: 3\n",
      "Current number is: 4\n"
     ]
    }
   ],
   "source": [
    "# Looping with for loop\n",
    "for i in range(5):\n",
    "    print(\"Current number is:\", i)\n"
   ]
  },
  {
   "cell_type": "code",
   "execution_count": 6,
   "id": "dff907f7-41a5-49da-aa0a-890aae507c46",
   "metadata": {
    "tags": []
   },
   "outputs": [
    {
     "name": "stdout",
     "output_type": "stream",
     "text": [
      "Hello, Bob !\n"
     ]
    }
   ],
   "source": [
    "# Function definition\n",
    "def greet(name):\n",
    "    print(\"Hello,\", name, \"!\")\n",
    "\n",
    "# Function call\n",
    "greet(\"Bob\")\n"
   ]
  },
  {
   "cell_type": "code",
   "execution_count": null,
   "id": "5083a36f-d214-458b-9b5d-a8729f8197c4",
   "metadata": {},
   "outputs": [],
   "source": []
  }
 ],
 "metadata": {
  "kernelspec": {
   "display_name": "Python 3 (ipykernel)",
   "language": "python",
   "name": "python3"
  },
  "language_info": {
   "codemirror_mode": {
    "name": "ipython",
    "version": 3
   },
   "file_extension": ".py",
   "mimetype": "text/x-python",
   "name": "python",
   "nbconvert_exporter": "python",
   "pygments_lexer": "ipython3",
   "version": "3.11.5"
  }
 },
 "nbformat": 4,
 "nbformat_minor": 5
}
